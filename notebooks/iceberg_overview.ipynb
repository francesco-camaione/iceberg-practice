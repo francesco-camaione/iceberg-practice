{
 "cells": [
  {
   "cell_type": "markdown",
   "id": "b3fa8457",
   "metadata": {},
   "source": [
    "## What is Apache Iceberg ?\n",
    "A table format which set rules for how table data and metadata are written and read."
   ]
  },
  {
   "cell_type": "markdown",
   "id": "b6dcaa46",
   "metadata": {},
   "source": [
    "### What's a table format?\n",
    "An abstraction used to identify a table as a collection of files. In iceberg a table is defined as a collection of data files while, in hive table format, a table is defined as a folder that contains data files. This difference enables Iceberg to offer several features that will be explained."
   ]
  },
  {
   "cell_type": "markdown",
   "id": "7c10d507",
   "metadata": {},
   "source": [
    "## How does it works? - Architecture\n",
    "<img src=\"./iceberg_architecture.png\" style=\"max-width: 30%;\"></img>\n",
    "\n",
    "#### Components: \n",
    "- <strong>Catalog:</strong> contains information about existing tables and, based on the table(s) you want to retrieve, to which metadata files point at.\n",
    "- <strong>Metadata file:</strong> stores data about table schema, partitioning schema and historical snapshots. A snapshot represents the state of a table at a certain point in time (time travel feature). \n",
    "- <strong>Manifest list snapshot:</strong> determine the list of manifest files that client can query based on the stapshot desired.\n",
    "- <strong>Manifest file list:</strong> contains informations about which data files point at, based on the snapshot client wants to retrieve. Note that one or more manifest file can compose the snapshot of the table.\n",
    "- <strong>Data files:</strong> contains data which are stored as default option in parquet files (lossless compressed).\n",
    "\n",
    "Every time a table is modified, a snapshot is created and the connected components are updated. The created manifest file contains only the changes applied to the table, meaning: it does not rewrite the whole file.\n"
   ]
  },
  {
   "cell_type": "markdown",
   "id": "210b7b93",
   "metadata": {},
   "source": [
    "The features offered by Icerg are analyzed by creating a notebook for each feature which contains its explanation and the code to implement it."
   ]
  },
  {
   "cell_type": "code",
   "execution_count": null,
   "id": "b920df8a",
   "metadata": {},
   "outputs": [],
   "source": []
  }
 ],
 "metadata": {
  "kernelspec": {
   "display_name": "Python 3 (ipykernel)",
   "language": "python",
   "name": "python3"
  },
  "language_info": {
   "codemirror_mode": {
    "name": "ipython",
    "version": 3
   },
   "file_extension": ".py",
   "mimetype": "text/x-python",
   "name": "python",
   "nbconvert_exporter": "python",
   "pygments_lexer": "ipython3",
   "version": "3.11.5"
  }
 },
 "nbformat": 4,
 "nbformat_minor": 5
}
