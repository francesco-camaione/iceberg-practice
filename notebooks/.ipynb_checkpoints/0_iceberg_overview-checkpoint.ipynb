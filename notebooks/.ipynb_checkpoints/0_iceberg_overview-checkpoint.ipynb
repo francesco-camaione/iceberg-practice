{
 "cells": [
  {
   "cell_type": "markdown",
   "id": "b3fa8457",
   "metadata": {},
   "source": [
    "## What is Apache Iceberg ?\n",
    "A table format which set rules for how table data and metadata are written and read."
   ]
  },
  {
   "cell_type": "markdown",
   "id": "b6dcaa46",
   "metadata": {},
   "source": [
    "### What's a table format?\n",
    "An abstraction used to identify a table as a collection of files. In iceberg a table is defined as a collection of data files while, in hive table format, a table is defined as a folder that contains data files. This difference enables Iceberg to offer several features that will be explained."
   ]
  },
  {
   "cell_type": "markdown",
   "id": "7c10d507",
   "metadata": {},
   "source": [
    "## How does it works? - Architecture\n",
    "<img src=\"./images/iceberg_architecture.png\" style=\"max-width: 30%;\"></img>\n",
    "\n",
    "#### Components: \n",
    "- <strong>Catalog:</strong> contains information about existing tables and, based on the table(s) you want to retrieve, to which metadata files point at.\n",
    "- <strong>Metadata file:</strong> stores data about table schema, partitioning schema and historical snapshots. A snapshot represents the state of a table at a certain point in time (time travel feature). \n",
    "- <strong>Manifest list snapshot:</strong> determine the list of manifest files that client can query based on the stapshot desired.\n",
    "- <strong>Manifest file list:</strong> contains informations about which data files point at, based on the snapshot client wants to retrieve. Note that one or more manifest file can compose the snapshot of the table.\n",
    "- <strong>Data files:</strong> contains data which are stored as default option in parquet files (lossless compressed).\n",
    "- <strong>Delete files:</strong> There are also delete files. Delete files encode rows of a table that are deleted in existing data files.\n",
    "\n",
    "Every time a table is modified, a snapshot is created and the connected components are updated. The created manifest file contains only the changes applied to the table, meaning: it does not rewrite the whole file.\n",
    "Note also that all this metadata enable performance optimizations (e.g. by pointing only at the relevant data files without having to scan them all).\n"
   ]
  },
  {
   "cell_type": "markdown",
   "id": "210b7b93",
   "metadata": {},
   "source": [
    "To answer the \"why Iceberg\" question we will look at the features offered by analyzing them using a notebook for each feature which contains its explanation and the code to implement it.\n",
    "\n",
    "#### The main features are:\n",
    "- <strong>ACID guarantees:</strong> \n",
    "- <strong>Schema evolution</strong>\n",
    "- <strong>Time travel</strong>\n",
    "- <strong>Partition evolution</strong>\n",
    "- <strong>Hidden partitioning</strong>\n",
    "\n",
    "Finally, Iceberg allows to consider the data lake as if it would be a data warehouse, transforming it in a data lakehouse. \n",
    "\n",
    "<strong>Note:</strong> Run the spark_script before running the notebooks."
   ]
  }
 ],
 "metadata": {
  "kernelspec": {
   "display_name": "Python 3 (ipykernel)",
   "language": "python",
   "name": "python3"
  },
  "language_info": {
   "codemirror_mode": {
    "name": "ipython",
    "version": 3
   },
   "file_extension": ".py",
   "mimetype": "text/x-python",
   "name": "python",
   "nbconvert_exporter": "python",
   "pygments_lexer": "ipython3",
   "version": "3.11.3"
  }
 },
 "nbformat": 4,
 "nbformat_minor": 5
}
