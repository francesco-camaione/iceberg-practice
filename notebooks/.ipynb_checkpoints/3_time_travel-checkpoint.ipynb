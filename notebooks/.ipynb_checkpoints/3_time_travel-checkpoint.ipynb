{
 "cells": [
  {
   "cell_type": "markdown",
   "id": "af023974-7b25-49c6-91a9-62c6ddb509e8",
   "metadata": {},
   "source": [
    "Apache Iceberg provides versioning and time travel capabilities, allowing users to query data as it existed at a specific point in time. This feature can be extremely useful for debugging, auditing, and historical analysis.\n",
    "\n",
    "Time travel in Iceberg allows users to access historical snapshots of their table. Snapshots are created whenever a table is modified, such as adding or deleting data, and are assigned unique identifiers. Each snapshot is a consistent and complete view of the table at a given point in time."
   ]
  },
  {
   "cell_type": "code",
   "execution_count": 4,
   "id": "08ff5cdc-baa2-4bb6-a123-d140317e3d3f",
   "metadata": {},
   "outputs": [
    {
     "name": "stdout",
     "output_type": "stream",
     "text": [
      "+--------------------+-------------------+-------------------+-------------------+\n",
      "|     made_current_at|        snapshot_id|          parent_id|is_current_ancestor|\n",
      "+--------------------+-------------------+-------------------+-------------------+\n",
      "|2024-04-27 15:29:...|6711211621056771738|2707077687595228535|               true|\n",
      "|2024-04-27 15:27:...|2707077687595228535|8059457254979550641|               true|\n",
      "|2024-04-27 15:26:...|8059457254979550641|4316376306380043017|               true|\n",
      "|2024-04-27 15:25:...|4316376306380043017|6945889682975321469|               true|\n",
      "|2024-04-27 15:25:...|6945889682975321469|2500024997980005591|               true|\n",
      "|2024-04-27 15:23:...|2500024997980005591|9015970749471366070|               true|\n",
      "|2024-04-27 15:13:...|9015970749471366070|1036892303015044680|               true|\n",
      "|2024-04-27 15:11:...|1036892303015044680|3663590870506627609|               true|\n",
      "|2024-04-27 13:29:...|3663590870506627609| 922663229200831164|               true|\n",
      "|2024-04-27 13:28:...| 922663229200831164|9220030009765536769|               true|\n",
      "|2024-04-27 10:37:...|9220030009765536769|2195253128215160933|               true|\n",
      "|2024-04-27 10:36:...|2195253128215160933|               NULL|               true|\n",
      "+--------------------+-------------------+-------------------+-------------------+\n",
      "\n",
      "+----+-----+--------+-------+--------------------+-----+-----------+------+------+-----+--------+----------------+-----+-----------+----------+---------------+\n",
      "| Age|Cabin|Embarked|   Fare|                Name|Parch|PassengerId|Pclass|   Sex|SibSp|Survived|          Ticket|Title|Family_Size|new_column|choose_a_column|\n",
      "+----+-----+--------+-------+--------------------+-----+-----------+------+------+-----+--------+----------------+-----+-----------+----------+---------------+\n",
      "|77.0|    a|       b|   77.0|                 ccc|    1|          2|     3|     M|    4|    77.0|               a|    b|          4|     lorem|           NULL|\n",
      "|77.0|    a|       b|   77.0|                 ccc|    1|          2|     3|     M|    4|    77.0|               a|    b|          4|     lorem|           NULL|\n",
      "|22.0| NULL|       S|   7.25|Braund, Mr. Owen ...|    0|          1|     3|  male|    1|     0.0|       A/5 21171|   Mr|          1|      NULL|           NULL|\n",
      "|38.0|  C85|       C|71.2833|Cumings, Mrs. Joh...|    0|          2|     1|female|    1|     1.0|        PC 17599|  Mrs|          1|      NULL|           NULL|\n",
      "|26.0| NULL|       S|  7.925|Heikkinen, Miss. ...|    0|          3|     3|female|    0|     1.0|STON/O2. 3101282| Miss|          0|      NULL|           NULL|\n",
      "+----+-----+--------+-------+--------------------+-----+-----------+------+------+-----+--------+----------------+-----+-----------+----------+---------------+\n",
      "only showing top 5 rows\n",
      "\n",
      "+----+-----+--------+----+--------------------+-----+-----------+------+----+-----+--------+---------+-----+-----------+----------+---------------+\n",
      "| Age|Cabin|Embarked|Fare|                Name|Parch|PassengerId|Pclass| Sex|SibSp|Survived|   Ticket|Title|Family_Size|new_column|choose_a_column|\n",
      "+----+-----+--------+----+--------------------+-----+-----------+------+----+-----+--------+---------+-----+-----------+----------+---------------+\n",
      "|77.0|    a|       b|77.0|                 ccc|    1|          2|     3|   M|    4|    77.0|        a|    b|          4|     lorem|           NULL|\n",
      "|77.0|    a|       b|77.0|                 ccc|    1|          2|     3|   M|    4|    77.0|        a|    b|          4|     lorem|          lorem|\n",
      "|77.0|    a|       b|77.0|                 ccc|    1|          2|     3|   M|    4|    77.0|        a|    b|          4|     lorem|           NULL|\n",
      "|77.0|    a|       b|77.0|                 ccc|    1|          2|     3|   M|    4|    77.0|        a|    b|          4|     lorem|           NULL|\n",
      "|22.0| NULL|       S|7.25|Braund, Mr. Owen ...|    0|          1|     3|male|    1|     0.0|A/5 21171|   Mr|          1|      NULL|           NULL|\n",
      "+----+-----+--------+----+--------------------+-----+-----------+------+----+-----+--------+---------+-----+-----------+----------+---------------+\n",
      "only showing top 5 rows\n",
      "\n"
     ]
    }
   ],
   "source": [
    "from pyspark.sql import SparkSession\n",
    "\n",
    "# Set the absolute paths to the Iceberg tables and JAR files\n",
    "iceberg_tables_path = \"/Users/france.cama/code/iceberg-practice/iceberg_tables\"\n",
    "iceberg_jars_path = \"/Users/france.cama/code/iceberg-practice/jars/iceberg-spark-runtime-3.5_2.13-1.5.0.jar\"\n",
    "\n",
    "# Create a Spark session\n",
    "spark = SparkSession.builder \\\n",
    "    .appName(\"Iceberg schema evolution feature\") \\\n",
    "    .config(\"spark.driver.extraJavaOptions\", \"-Dderby.system.home=\" + iceberg_tables_path) \\\n",
    "    .config(\"spark.jars\", iceberg_jars_path) \\\n",
    "    .config(\"spark.sql.catalog.spark_catalog\", \"org.apache.iceberg.spark.SparkSessionCatalog\") \\\n",
    "    .config(\"spark.sql.catalog.spark_catalog.type\", \"hadoop\") \\\n",
    "    .config(\"spark.sql.catalog.spark_catalog.warehouse\", iceberg_tables_path) \\\n",
    "    .getOrCreate()\n",
    "\n",
    "# show snapshots details\n",
    "spark.sql(\"SELECT * FROM default.titanic.history ORDER BY made_current_at DESC;\").show()\n",
    "\n",
    "# time travel to timestamp\n",
    "df = spark.sql(f\"SELECT * FROM default.titanic TIMESTAMP AS OF '2024-04-27T15:13:00.289+00:00';\")\n",
    "df.show(5)\n",
    "\n",
    "# time travel using snapshot_id\n",
    "df_id = spark.sql(f\"SELECT * FROM default.titanic VERSION AS OF 8059457254979550641;\")\n",
    "df_id.show(5)"
   ]
  },
  {
   "cell_type": "code",
   "execution_count": null,
   "id": "ba47a252-2aca-4c8c-b23e-9734aa80a773",
   "metadata": {},
   "outputs": [],
   "source": []
  }
 ],
 "metadata": {
  "kernelspec": {
   "display_name": "Python 3 (ipykernel)",
   "language": "python",
   "name": "python3"
  },
  "language_info": {
   "codemirror_mode": {
    "name": "ipython",
    "version": 3
   },
   "file_extension": ".py",
   "mimetype": "text/x-python",
   "name": "python",
   "nbconvert_exporter": "python",
   "pygments_lexer": "ipython3",
   "version": "3.11.3"
  }
 },
 "nbformat": 4,
 "nbformat_minor": 5
}
