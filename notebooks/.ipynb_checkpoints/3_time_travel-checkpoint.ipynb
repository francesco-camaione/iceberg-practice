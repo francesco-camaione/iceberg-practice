{
 "cells": [
  {
   "cell_type": "markdown",
   "id": "af023974-7b25-49c6-91a9-62c6ddb509e8",
   "metadata": {},
   "source": [
    "Apache Iceberg provides versioning and time travel capabilities, allowing users to query data as it existed at a specific point in time. This feature can be extremely useful for debugging, auditing, and historical analysis.\n",
    "\n",
    "Time travel in Iceberg allows users to access historical snapshots of their table. Snapshots are created whenever a table is modified, such as adding or deleting data, and are assigned unique identifiers. Each snapshot is a consistent and complete view of the table at a given point in time."
   ]
  },
  {
   "cell_type": "code",
   "execution_count": 1,
   "id": "08ff5cdc-baa2-4bb6-a123-d140317e3d3f",
   "metadata": {},
   "outputs": [
    {
     "name": "stderr",
     "output_type": "stream",
     "text": [
      "24/07/22 12:10:11 WARN Utils: Your hostname, MBA-Francesco.local resolves to a loopback address: 127.0.0.1; using 192.168.1.62 instead (on interface en0)\n",
      "24/07/22 12:10:11 WARN Utils: Set SPARK_LOCAL_IP if you need to bind to another address\n",
      "24/07/22 12:10:11 WARN NativeCodeLoader: Unable to load native-hadoop library for your platform... using builtin-java classes where applicable\n",
      "Setting default log level to \"WARN\".\n",
      "To adjust logging level use sc.setLogLevel(newLevel). For SparkR, use setLogLevel(newLevel).\n"
     ]
    },
    {
     "name": "stdout",
     "output_type": "stream",
     "text": [
      "+--------------------+-------------------+-------------------+-------------------+\n",
      "|     made_current_at|        snapshot_id|          parent_id|is_current_ancestor|\n",
      "+--------------------+-------------------+-------------------+-------------------+\n",
      "|2024-07-22 11:47:...|6609739537041086161|1184812391625634863|               true|\n",
      "|2024-07-22 11:11:...|1759033321787871743| 813399347516847428|              false|\n",
      "|2024-07-22 11:11:...| 813399347516847428|6609739537041086161|              false|\n",
      "|2024-07-22 11:11:...|6609739537041086161|1184812391625634863|               true|\n",
      "|2024-07-22 11:10:...|1184812391625634863|4619981039604578990|               true|\n",
      "|2024-07-22 11:09:...|4619981039604578990|               NULL|               true|\n",
      "+--------------------+-------------------+-------------------+-------------------+\n",
      "\n",
      "+----+-----+--------+-------+--------------------+-----+-----------+------+------+-----+--------+----------------+-----+-----------+---------------+-------+\n",
      "| Age|Cabin|Embarked|   Fare|                Name|Parch|PassengerId|Pclass|   Sex|SibSp|Survived|          Ticket|Title|Family_Size|choose_a_column|new_col|\n",
      "+----+-----+--------+-------+--------------------+-----+-----------+------+------+-----+--------+----------------+-----+-----------+---------------+-------+\n",
      "|77.0|    a|       b|   77.0|                 ccc|    1|          2|     3|     M|    4|    77.0|               a|    b|          4|          lorem|  lorem|\n",
      "|77.0|    a|       b|   77.0|                 ccc|    1|          2|     3|     M|    4|    77.0|               a|    b|          4|          lorem|   NULL|\n",
      "|22.0| NULL|       S|   7.25|Braund, Mr. Owen ...|    0|          1|     3|  male|    1|     0.0|       A/5 21171|   Mr|          1|           NULL|   NULL|\n",
      "|38.0|  C85|       C|71.2833|Cumings, Mrs. Joh...|    0|          2|     1|female|    1|     1.0|        PC 17599|  Mrs|          1|           NULL|   NULL|\n",
      "|26.0| NULL|       S|  7.925|Heikkinen, Miss. ...|    0|          3|     3|female|    0|     1.0|STON/O2. 3101282| Miss|          0|           NULL|   NULL|\n",
      "+----+-----+--------+-------+--------------------+-----+-----------+------+------+-----+--------+----------------+-----+-----------+---------------+-------+\n",
      "only showing top 5 rows\n",
      "\n",
      "+----+-----+--------+-------+--------------------+-----+-----------+------+------+-----+--------+----------------+-----+-----------+\n",
      "| Age|Cabin|Embarked|   Fare|                Name|Parch|PassengerId|Pclass|   Sex|SibSp|Survived|          Ticket|Title|Family_Size|\n",
      "+----+-----+--------+-------+--------------------+-----+-----------+------+------+-----+--------+----------------+-----+-----------+\n",
      "|22.0| NULL|       S|   7.25|Braund, Mr. Owen ...|    0|          1|     3|  male|    1|     0.0|       A/5 21171|   Mr|          1|\n",
      "|38.0|  C85|       C|71.2833|Cumings, Mrs. Joh...|    0|          2|     1|female|    1|     1.0|        PC 17599|  Mrs|          1|\n",
      "|26.0| NULL|       S|  7.925|Heikkinen, Miss. ...|    0|          3|     3|female|    0|     1.0|STON/O2. 3101282| Miss|          0|\n",
      "|35.0| C123|       S|   53.1|Futrelle, Mrs. Ja...|    0|          4|     1|female|    1|     1.0|          113803|  Mrs|          1|\n",
      "|35.0| NULL|       S|   8.05|Allen, Mr. Willia...|    0|          5|     3|  male|    0|     0.0|          373450|   Mr|          0|\n",
      "+----+-----+--------+-------+--------------------+-----+-----------+------+------+-----+--------+----------------+-----+-----------+\n",
      "only showing top 5 rows\n",
      "\n",
      "TITANIC ROLLED BACK\n",
      "+----+-----+--------+-------+--------------------+-----+-----------+------+------+-----+--------+----------------+-----+-----------+---------------+-------+\n",
      "| Age|Cabin|Embarked|   Fare|                Name|Parch|PassengerId|Pclass|   Sex|SibSp|Survived|          Ticket|Title|Family_Size|choose_a_column|new_col|\n",
      "+----+-----+--------+-------+--------------------+-----+-----------+------+------+-----+--------+----------------+-----+-----------+---------------+-------+\n",
      "|22.0| NULL|       S|   7.25|Braund, Mr. Owen ...|    0|          1|     3|  male|    1|     0.0|       A/5 21171|   Mr|          1|           NULL|   NULL|\n",
      "|38.0|  C85|       C|71.2833|Cumings, Mrs. Joh...|    0|          2|     1|female|    1|     1.0|        PC 17599|  Mrs|          1|           NULL|   NULL|\n",
      "|26.0| NULL|       S|  7.925|Heikkinen, Miss. ...|    0|          3|     3|female|    0|     1.0|STON/O2. 3101282| Miss|          0|           NULL|   NULL|\n",
      "|35.0| C123|       S|   53.1|Futrelle, Mrs. Ja...|    0|          4|     1|female|    1|     1.0|          113803|  Mrs|          1|           NULL|   NULL|\n",
      "|35.0| NULL|       S|   8.05|Allen, Mr. Willia...|    0|          5|     3|  male|    0|     0.0|          373450|   Mr|          0|           NULL|   NULL|\n",
      "+----+-----+--------+-------+--------------------+-----+-----------+------+------+-----+--------+----------------+-----+-----------+---------------+-------+\n",
      "only showing top 5 rows\n",
      "\n"
     ]
    },
    {
     "name": "stderr",
     "output_type": "stream",
     "text": [
      "24/07/22 12:10:25 WARN GarbageCollectionMetrics: To enable non-built-in garbage collector(s) List(G1 Concurrent GC), users should configure it(them) to spark.eventLog.gcMetrics.youngGenerationGarbageCollectors or spark.eventLog.gcMetrics.oldGenerationGarbageCollectors\n"
     ]
    }
   ],
   "source": [
    "from pyspark.sql import SparkSession\n",
    "from pyspark import SparkContext\n",
    "\n",
    "# Set the absolute paths to the Iceberg tables and JAR files\n",
    "iceberg_tables_path = \"/Users/france.cama/code/iceberg-practice/iceberg_tables\"\n",
    "iceberg_jars_path = \"/Users/france.cama/code/iceberg-practice/jars/iceberg-spark-runtime-3.5_2.12-1.5.1.jar\"\n",
    "\n",
    "# Create a Spark session\n",
    "spark = SparkSession.builder \\\n",
    "    .appName(\"Iceberg time travel feature\") \\\n",
    "    .config(\"spark.driver.extraJavaOptions\", \"-Dderby.system.home=\" + iceberg_tables_path) \\\n",
    "    .config(\"spark.jars\", iceberg_jars_path) \\\n",
    "    .config(\"spark.sql.extensions\", \"org.apache.iceberg.spark.extensions.IcebergSparkSessionExtensions\") \\\n",
    "    .config(\"spark.sql.catalog.spark_catalog\", \"org.apache.iceberg.spark.SparkSessionCatalog\") \\\n",
    "    .config(\"spark.sql.catalog.spark_catalog.type\", \"hadoop\") \\\n",
    "    .config(\"spark.sql.catalog.spark_catalog.warehouse\", iceberg_tables_path) \\\n",
    "    .getOrCreate()\n",
    "\n",
    "\n",
    "# show snapshots details\n",
    "spark.sql(\"SELECT * FROM default.titanic.history ORDER BY made_current_at DESC;\").show()\n",
    "\n",
    "# time travel to timestamp\n",
    "df = spark.sql(f\"SELECT * FROM default.titanic TIMESTAMP AS OF '2024-07-22T11:10:00.289+00:00';\")\n",
    "df.show(5)\n",
    "\n",
    "# time travel using snapshot_id\n",
    "df_id = spark.sql(f\"SELECT * FROM default.titanic VERSION AS OF 4619981039604578990;\")\n",
    "df_id.show(5)\n",
    "\n",
    "\n",
    "### ROLL BACK ###\n",
    "# Roll back an Iceberg table to a previous snapshot using either a timestamp or a snapshot ID.\n",
    "# Users who have been assigned the ADMIN role, the table's owner, and users with INSERT, UPDATE, or DELETE privileges on the table can use the ROLLBACK command.\n",
    "# ROLLBACK TABLE default.titanic TO { SNAPSHOT '6609739537041086161'};\n",
    "SNAPSHOT = 6609739537041086161\n",
    "spark.sql(f\"CALL spark_catalog.system.rollback_to_snapshot('default.titanic', {SNAPSHOT})\")\n",
    "\n",
    "print(\"TITANIC ROLLED BACK\")\n",
    "spark.sql(\"SELECT * FROM titanic;\").show(5)\n"
   ]
  },
  {
   "cell_type": "markdown",
   "id": "95a736d0-b2fe-46c4-b07c-aed61c829912",
   "metadata": {},
   "source": [
    "## Time travel query lifecycle regarding metadata.\n",
    "\n",
    "Iceberg first looks for the snapshot_id selected in the snapshot JSON object in the metadata file. In this object several properties are contained like: parent-snapshot-id, timestamp-ms, manifest-list, id ecc. Using this metadata than the manifest-list file is retrieved. In this file several informations are included and, in particular, the manifest file(s) (in the manifest_path). By reading this manifest files can use several statistics on the data columns but, more important, the data files path to select on which the data are contained and the query is interested in. \n",
    "In conclusion, by leveraging table metadata and 'going straight to the point', iceberg retrieve old data while offering good performance.\n"
   ]
  }
 ],
 "metadata": {
  "kernelspec": {
   "display_name": "Python 3 (ipykernel)",
   "language": "python",
   "name": "python3"
  },
  "language_info": {
   "codemirror_mode": {
    "name": "ipython",
    "version": 3
   },
   "file_extension": ".py",
   "mimetype": "text/x-python",
   "name": "python",
   "nbconvert_exporter": "python",
   "pygments_lexer": "ipython3",
   "version": "3.11.3"
  }
 },
 "nbformat": 4,
 "nbformat_minor": 5
}
