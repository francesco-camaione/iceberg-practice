{
 "cells": [
  {
   "cell_type": "markdown",
   "id": "f6dff8a3-72df-47cf-a66a-d01b176775dd",
   "metadata": {},
   "source": [
    "Iceberg allows concurrent I/O (writes and reads) operations while providing ACID compliance (Atomicity, Consistency, Isolation, and Durability). \n",
    "ACID transactions are important to enable concurrent operations across a large scale of data and file formats while allowing several engines to work on them simultaneously and make sure data gets not corrupted. "
   ]
  },
  {
   "cell_type": "markdown",
   "id": "f684640d-22f9-4260-9b30-5c9a15d12816",
   "metadata": {},
   "source": [
    "<strong>A</strong> — Iceberg writes support removing and adding files in a single operation, and writes are never partially visible, providing atomicity of operations.\n",
    "\n",
    "<strong>C</strong> — Iceberg uses optimistic concurrency locking to make sure any concurrent writes to the table do not lead to inconsistent data. Readers only see already committed data for a read-consistent view.\n",
    "\n",
    "<strong>I</strong> — Iceberg uses snapshot and serializable isolation levels to ensure that reads and concurrent writes are isolated.\n",
    "\n",
    "<strong>D</strong> — Apache Iceberg ensures transaction semantics are durable; when a transaction is committed, it is permanent. "
   ]
  },
  {
   "cell_type": "markdown",
   "id": "77ce25e5-4dde-4ccb-8efe-ccc01119ae37",
   "metadata": {},
   "source": [
    "#### Optimistic concurrency locking:\n",
    "Writes follow optimistic concurrency locking, meaning a writer optimistically assumes that the current table version will not be changed before it can commit its update. The writer initiates the update, creates the metadata files, and tries to commit the update by swapping the metadata file pointer from the current version to the new version.\n",
    "An atomic swap of one table metadata file for another provides the basis for serializable isolation.\n",
    "However, if the writer finds that the snapshot on which the update is based is no longer current, the writer must retry the update based on the new version.\n",
    "Reads are isolated from concurrent writes and always use a committed snapshot of a table’s data. Every reader refers to the particular table state, as pointed out by the existing metadata file loaded last by the reader (which it acquires by referring to the catalog). Until the reader refreshes (reloads) the metadata file to pick up the new metadata location, all the reads continue to be directed to the last state pointed to by the existing metadata file."
   ]
  }
 ],
 "metadata": {
  "kernelspec": {
   "display_name": "Python 3 (ipykernel)",
   "language": "python",
   "name": "python3"
  },
  "language_info": {
   "codemirror_mode": {
    "name": "ipython",
    "version": 3
   },
   "file_extension": ".py",
   "mimetype": "text/x-python",
   "name": "python",
   "nbconvert_exporter": "python",
   "pygments_lexer": "ipython3",
   "version": "3.11.3"
  }
 },
 "nbformat": 4,
 "nbformat_minor": 5
}
